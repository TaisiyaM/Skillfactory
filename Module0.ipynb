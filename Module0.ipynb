{
  "nbformat": 4,
  "nbformat_minor": 0,
  "metadata": {
    "colab": {
      "name": "Module0.ipynb",
      "provenance": []
    },
    "kernelspec": {
      "name": "python3",
      "display_name": "Python 3"
    },
    "language_info": {
      "name": "python"
    }
  },
  "cells": [
    {
      "cell_type": "code",
      "metadata": {
        "id": "5jd0DyUDiaJ9",
        "colab": {
          "base_uri": "https://localhost:8080/"
        },
        "outputId": "11993611-0fde-46d3-90bc-5cbf94c2bd56"
      },
      "source": [
        "import numpy as np\n",
        "\n",
        "def game_core_v2(number):\n",
        "    '''Интервал, в пределах которого угадывается число, \n",
        "    уменьшается в 2 раза за каждую попытку, \n",
        "    в качестве угадываемого числа берется середина отрезка'''\n",
        "    count = 1\n",
        "    left = 1\n",
        "    right = 100\n",
        "    predict = 50\n",
        "    while number != predict:\n",
        "          count +=1\n",
        "          if number > predict: \n",
        "             left = predict\n",
        "          elif number < predict: \n",
        "               right = predict\n",
        "          predict = (left + right) // 2\n",
        "    return(count) # выход из цикла, если угадали\n",
        "        \n",
        "def score_game(game_core):\n",
        "    '''Запускаем игру 100 раз, чтобы узнать, как быстро игра угадывает число'''\n",
        "    count_ls = []\n",
        "    np.random.seed(1)  \n",
        "    random_array = np.random.randint(1,101, size=(100))\n",
        "    for number in random_array:\n",
        "        count_ls.append(game_core(number))\n",
        "    score = int(np.mean(count_ls))\n",
        "    print(f\"Ваш алгоритм угадывает число в среднем за {score} попыток\")\n",
        "    return(score)\n",
        "\n",
        "score_game(game_core_v2)"
      ],
      "execution_count": null,
      "outputs": [
        {
          "output_type": "stream",
          "text": [
            "Ваш алгоритм угадывает число в среднем за 5 попыток\n"
          ],
          "name": "stdout"
        },
        {
          "output_type": "execute_result",
          "data": {
            "text/plain": [
              "5"
            ]
          },
          "metadata": {
            "tags": []
          },
          "execution_count": 7
        }
      ]
    },
    {
      "cell_type": "code",
      "metadata": {
        "id": "rnw2WUg9YIdk"
      },
      "source": [
        ""
      ],
      "execution_count": null,
      "outputs": []
    },
    {
      "cell_type": "code",
      "metadata": {
        "id": "Q-6BdFf-ikQN"
      },
      "source": [
        ""
      ],
      "execution_count": null,
      "outputs": []
    }
  ]
}